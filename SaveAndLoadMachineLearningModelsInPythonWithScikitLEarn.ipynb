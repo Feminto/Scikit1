{
 "cells": [
  {
   "cell_type": "markdown",
   "id": "0f1dd813",
   "metadata": {},
   "source": [
    "# **Save and Load Machine Learning Models in Python with scikit-learn**"
   ]
  },
  {
   "cell_type": "markdown",
   "id": "7e74d27b",
   "metadata": {},
   "source": [
    "Two main methods\n",
    "1. **Using Python’s pickle module**\n",
    "    * Standard way to serialize Python objects.\n",
    "    * Use pickle.dump() to save a trained model object to a file.\n",
    "    * Use pickle.load() to load it back and make predictions.\n",
    "    * Example: Train a LinearRegression, save to 'linear_model.sav', load back, then compute RMSE on test data.\n",
    "→ RMSE ≈ 72.12\n",
    "\n",
    "    import pickle\\\n",
    "    ... train model ...\\\n",
    "    pickle.dump(model, open('model.sav','wb'))\\\n",
    "    loaded = pickle.load(open('model.sav','rb'))\\\n",
    "    preds = loaded.predict(X_test)\n",
    "\n",
    "2. **Using joblib (preferred for models with large NumPy arrays)**\n",
    "    * Designed for performance with large arrays.\n",
    "    * Use joblib.dump() and joblib.load() similarly.\n",
    "    * Example: Exactly same workflow with LinearRegression yields RMSE ≈ 72.12\n",
    "\n",
    "    import joblib\\\n",
    "    ... train model ...\\\n",
    "    joblib.dump(model, open('model_j.sav','wb'))\\\n",
    "    loaded = joblib.load(open('model_j.sav','rb'))\\\n",
    "    preds = loaded.predict(X_test)\n"
   ]
  },
  {
   "cell_type": "code",
   "execution_count": null,
   "id": "e8bd108a",
   "metadata": {},
   "outputs": [],
   "source": [
    "# import packages\n",
    "import pandas as pd\n",
    "import numpy as np\n",
    "import matplotlib.pyplot as plt\n",
    "from sklearn.model_selection import train_test_split\n",
    "from sklearn.linear_model import LinearRegression\n",
    "from sklearn import metrics\n",
    "import pickle\n",
    "import joblib\n",
    "\n",
    "# import the dataset\n",
    "dataset = pd.read_csv('headbrain1.csv')\n",
    "\n",
    "X = dataset.iloc[:, : -1].values\n",
    "Y = dataset.iloc[:, -1].values\n",
    "\n",
    "# train test split\n",
    "X_train, X_test, y_train, y_test = train_test_split(\n",
    "    X, Y, test_size=0.2, random_state=0)\n",
    "\n",
    "# create a linear regression model\n",
    "regressor = LinearRegression()\n",
    "regressor.fit(X_train, y_train)\n",
    "\n",
    "\n",
    "# PICKEL method:\n",
    "# save the model\n",
    "filename = 'linear_model.sav'\n",
    "pickle.dump(regressor, open(filename, 'wb'))\n",
    "\n",
    "# load the model\n",
    "load_model = pickle.load(open(filename, 'rb'))\n",
    "\n",
    "y_pred = load_model.predict(X_test)\n",
    "print('root mean squared error : ', np.sqrt(\n",
    "    metrics.mean_squared_error(y_test, y_pred)))\n",
    "\n",
    "\n",
    "#JOBLIB method:\n",
    "# save the model\n",
    "filename = 'linear_model_2.sav'\n",
    "joblib.dump(regressor, open(filename, 'wb'))\n",
    "\n",
    "# load the model\n",
    "load_model = joblib.load(open(filename, 'rb'))\n",
    "\n",
    "y_pred = load_model.predict(X_test)\n",
    "print('root mean squared error : ', np.sqrt(\n",
    "    metrics.mean_squared_error(y_test, y_pred)))"
   ]
  }
 ],
 "metadata": {
  "kernelspec": {
   "display_name": "base",
   "language": "python",
   "name": "python3"
  },
  "language_info": {
   "codemirror_mode": {
    "name": "ipython",
    "version": 3
   },
   "file_extension": ".py",
   "mimetype": "text/x-python",
   "name": "python",
   "nbconvert_exporter": "python",
   "pygments_lexer": "ipython3",
   "version": "3.11.7"
  }
 },
 "nbformat": 4,
 "nbformat_minor": 5
}
